{
 "cells": [
  {
   "cell_type": "code",
   "execution_count": null,
   "id": "eb0c310f",
   "metadata": {},
   "outputs": [],
   "source": [
    "import os\n",
    "import numpy as np\n",
    "from PIL import Image\n",
    "from sklearn.model_selection import train_test_split\n",
    "from tensorflow.keras.preprocessing.image import img_to_array\n",
    "import tensorflow as tf\n",
    "from tensorflow.keras.layers import Input, Conv2D, MaxPooling2D, UpSampling2D\n",
    "from tensorflow.keras.models import Model"
   ]
  },
  {
   "cell_type": "code",
   "execution_count": null,
   "id": "b9b6a88b",
   "metadata": {},
   "outputs": [],
   "source": [
    "# Set the paths\n",
    "data_dir = 'dataset-plant'\n",
    "categories = ['Cerscospora', 'Healthy', 'Leaf rust', 'Miner', 'Phoma']"
   ]
  },
  {
   "cell_type": "code",
   "execution_count": null,
   "id": "27d129f9",
   "metadata": {},
   "outputs": [],
   "source": [
    "# Load the images and labels\n",
    "images = []\n",
    "labels = []"
   ]
  },
  {
   "cell_type": "code",
   "execution_count": null,
   "id": "b02d5387",
   "metadata": {},
   "outputs": [],
   "source": [
    "for category in categories:\n",
    "    category_dir = os.path.join(data_dir, category)\n",
    "    for filename in os.listdir(category_dir):\n",
    "        img_path = os.path.join(category_dir, filename)\n",
    "        img = Image.open(img_path)\n",
    "        img = img.resize((128, 128))  # Resize the image to the desired size\n",
    "        img_array = img_to_array(img)\n",
    "        images.append(img_array)\n",
    "        labels.append(categories.index(category))"
   ]
  },
  {
   "cell_type": "code",
   "execution_count": null,
   "id": "496eb11e",
   "metadata": {},
   "outputs": [],
   "source": [
    "# Convert to numpy arrays\n",
    "images = np.array(images, dtype='float32')\n",
    "labels = np.array(labels)"
   ]
  },
  {
   "cell_type": "code",
   "execution_count": null,
   "id": "ec54f980",
   "metadata": {},
   "outputs": [],
   "source": [
    "# Normalize the pixel values\n",
    "images /= 255.0"
   ]
  },
  {
   "cell_type": "code",
   "execution_count": null,
   "id": "0b1fc2d1",
   "metadata": {},
   "outputs": [],
   "source": [
    "# Split the dataset into training and validation sets\n",
    "x_train, x_val, _, _ = train_test_split(images, labels, test_size=0.2, random_state=42)\n"
   ]
  },
  {
   "cell_type": "code",
   "execution_count": null,
   "id": "9c3d9b7c",
   "metadata": {},
   "outputs": [],
   "source": [
    "def load_data():\n",
    "    return (x_train, None), (x_val, None)\n"
   ]
  },
  {
   "cell_type": "code",
   "execution_count": null,
   "id": "d876bfbc",
   "metadata": {},
   "outputs": [],
   "source": [
    "# Load and preprocess the data\n",
    "(x_train, _), (x_val, _) = load_data()"
   ]
  },
  {
   "cell_type": "code",
   "execution_count": null,
   "id": "142ec8e2",
   "metadata": {},
   "outputs": [],
   "source": [
    "# Get the input shape\n",
    "input_shape = x_train.shape[1:]  # Assuming the shape is (height, width, channels)\n"
   ]
  },
  {
   "cell_type": "code",
   "execution_count": null,
   "id": "31f7f95e",
   "metadata": {},
   "outputs": [],
   "source": [
    "# Define the input tensor\n",
    "input_img = Input(shape=input_shape)"
   ]
  },
  {
   "cell_type": "code",
   "execution_count": null,
   "id": "69d76431",
   "metadata": {},
   "outputs": [],
   "source": [
    "# Encoder\n",
    "x = Conv2D(32, (3, 3), activation='relu', padding='same')(input_img)\n",
    "x = MaxPooling2D((2, 2), padding='same')(x)\n",
    "x = Conv2D(64, (3, 3), activation='relu', padding='same')(x)\n",
    "x = MaxPooling2D((2, 2), padding='same')(x)\n",
    "encoded = Conv2D(128, (3, 3), activation='relu', padding='same')(x)\n"
   ]
  },
  {
   "cell_type": "code",
   "execution_count": null,
   "id": "beb960b0",
   "metadata": {},
   "outputs": [],
   "source": [
    "# Decoder\n",
    "x = Conv2D(64, (3, 3), activation='relu', padding='same')(encoded)\n",
    "x = UpSampling2D((2, 2))(x)\n",
    "x = Conv2D(32, (3, 3), activation='relu', padding='same')(x)\n",
    "x = UpSampling2D((2, 2))(x)\n",
    "decoded = Conv2D(3, (3, 3), activation='sigmoid', padding='same')(x)\n"
   ]
  },
  {
   "cell_type": "code",
   "execution_count": null,
   "id": "a070b31d",
   "metadata": {},
   "outputs": [],
   "source": [
    "# Create the Autoencoder model\n",
    "autoencoder = Model(input_img, decoded)\n"
   ]
  },
  {
   "cell_type": "code",
   "execution_count": null,
   "id": "5a993eb8",
   "metadata": {},
   "outputs": [],
   "source": [
    "# Compile the model\n",
    "autoencoder.compile(optimizer='adam', loss='binary_crossentropy')\n"
   ]
  },
  {
   "cell_type": "code",
   "execution_count": null,
   "id": "bce015d1",
   "metadata": {},
   "outputs": [],
   "source": [
    "# Print the model summary\n",
    "autoencoder.summary()"
   ]
  },
  {
   "cell_type": "code",
   "execution_count": null,
   "id": "f5e48416",
   "metadata": {},
   "outputs": [],
   "source": [
    "# Train the Autoencoder\n",
    "autoencoder.fit(x_train, x_train, epochs=20, batch_size=128, validation_data=(x_val, x_val), shuffle=True)\n"
   ]
  },
  {
   "cell_type": "code",
   "execution_count": null,
   "id": "7389e875",
   "metadata": {},
   "outputs": [],
   "source": [
    "# Save the trained Autoencoder model\n",
    "autoencoder.save('../aotoencoder_model/autoencoder.keras')"
   ]
  }
 ],
 "metadata": {
  "kernelspec": {
   "display_name": "Python 3 (ipykernel)",
   "language": "python",
   "name": "python3"
  },
  "language_info": {
   "codemirror_mode": {
    "name": "ipython",
    "version": 3
   },
   "file_extension": ".py",
   "mimetype": "text/x-python",
   "name": "python",
   "nbconvert_exporter": "python",
   "pygments_lexer": "ipython3",
   "version": "3.11.5"
  }
 },
 "nbformat": 4,
 "nbformat_minor": 5
}
